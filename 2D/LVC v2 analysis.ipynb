{
 "cells": [
  {
   "cell_type": "markdown",
   "metadata": {
    "Collapsed": "false"
   },
   "source": [
    "### Import libs"
   ]
  },
  {
   "cell_type": "code",
   "execution_count": null,
   "metadata": {
    "Collapsed": "false",
    "init_cell": true
   },
   "outputs": [],
   "source": [
    "import matplotlib\n",
    "import numpy as np\n",
    "%matplotlib notebook\n",
    "from matplotlib.pyplot import figure\n",
    "import matplotlib.pyplot as plt\n",
    "import math\n",
    "from IPython.display import HTML\n",
    "import pandas as pd\n",
    "\n",
    "plt.rcParams['animation.embed_limit'] = 2**128\n",
    "plt.rcParams['animation.ffmpeg_path'] = '/usr/bin/ffmpeg'\n",
    "\n",
    "LVC_path = '/misc/home/u1220/analysis_jupyter'\n",
    "import sys\n",
    "sys.path.remove('/home/u1220/lvd_aniso/jupiter_books') if '/home/u1220/lvd_aniso/jupiter_books' in sys.path else None\n",
    "sys.path.append(LVC_path) if not LVC_path in sys.path else None\n",
    "\n",
    "from LVC.LVCcase_v2 import LVCcase\n",
    "\n",
    "plt.style.use('LVC')"
   ]
  },
  {
   "cell_type": "markdown",
   "metadata": {
    "Collapsed": "false"
   },
   "source": [
    "### Load data"
   ]
  },
  {
   "cell_type": "code",
   "execution_count": null,
   "metadata": {
    "Collapsed": "false",
    "init_cell": true
   },
   "outputs": [],
   "source": [
    "%store -r proj_for_trade\n",
    "proj_for_trade = r'/misc/home/u1220/lvd_aniso/mol_a_2nd/results_TP06/id_9/t1=60000pace_start=5000Ttarget=227.0Diffuz2=0.154'\n",
    "print(proj_for_trade)\n",
    "proj = LVCcase(project_folder=proj_for_trade, auto_load=True, plot=plt)\n",
    "\n",
    "proj.read_input(verbose=False)"
   ]
  },
  {
   "cell_type": "markdown",
   "metadata": {
    "Collapsed": "false",
    "heading_collapsed": true
   },
   "source": [
    "#### udat"
   ]
  },
  {
   "cell_type": "code",
   "execution_count": null,
   "metadata": {
    "Collapsed": "false",
    "hidden": true
   },
   "outputs": [],
   "source": [
    "proj.load_udat(verbose=True)\n",
    "proj.get_frames()\n",
    "frames = proj.frames"
   ]
  },
  {
   "cell_type": "markdown",
   "metadata": {
    "Collapsed": "false"
   },
   "source": [
    "### Tips"
   ]
  },
  {
   "cell_type": "code",
   "execution_count": null,
   "metadata": {
    "Collapsed": "false"
   },
   "outputs": [],
   "source": [
    "tips_fig = figure(num=None, figsize=(14, 4), dpi=80, facecolor='w')\n",
    "\n",
    "proj.draw_tipXY(show_stim=False, legend=False)\n",
    "# plt.xlim(0, 1000)\n",
    "plt.show()"
   ]
  },
  {
   "cell_type": "markdown",
   "metadata": {
    "Collapsed": "false",
    "heading_collapsed": true
   },
   "source": [
    "### Calc period by tips"
   ]
  },
  {
   "cell_type": "code",
   "execution_count": null,
   "metadata": {
    "Collapsed": "false",
    "hidden": true
   },
   "outputs": [],
   "source": [
    "times, periods = proj.calculate_periods_by_tips(start=20000, end=30000, u_level=47, coordinate='y', show_plot=True)\n",
    "\n",
    "figure(num=None, figsize=(12, 4), dpi=80, facecolor='w')\n",
    "plt.scatter(times, periods, s=7)\n",
    "plt.grid()\n",
    "plt.title(\"SW periods using tip coordinates\")\n",
    "plt.show()\n",
    "print(np.average(periods))"
   ]
  },
  {
   "cell_type": "markdown",
   "metadata": {
    "Collapsed": "false"
   },
   "source": [
    "### Draw frame"
   ]
  },
  {
   "cell_type": "code",
   "execution_count": null,
   "metadata": {
    "Collapsed": "false"
   },
   "outputs": [],
   "source": [
    "frame_fig = figure(num=None, figsize=(6, 6), dpi=80, facecolor='w')\n",
    "time=44\n",
    "proj.draw_frame(plot=plt, N=int(time/proj.dT), show_tips=True, set_title=True, vmax=25)"
   ]
  },
  {
   "cell_type": "markdown",
   "metadata": {
    "Collapsed": "false"
   },
   "source": [
    "### Animation"
   ]
  },
  {
   "cell_type": "code",
   "execution_count": null,
   "metadata": {
    "Collapsed": "false"
   },
   "outputs": [],
   "source": [
    "%matplotlib inline\n",
    "fig = figure(num=None, figsize=(6, 6), dpi=80, facecolor='w')\n",
    "proj.setup_animation(K=2, first=25000, last=30000, show_tips=True, draw_trace=False, axis_auto_scale=False, vmax=25)\n",
    "\n",
    "proj.generate_animation(fig)\n",
    "\n",
    "# proj.animation.save(\"/misc/home1/u1220/lvc/analysis_jupyter/_trash/SW_formation.gif\",  writer='imagemagick', fps=15)\n",
    "# proj.save_animation(filename='sl14norm_T=232.mp4', overwrite=False, fps=10, folder='/misc/home1/u1220/lvc/analysis_jupyter/_trash/')\n",
    "# proj.save_animation(generate_filename=True)\n",
    "\n",
    "%matplotlib notebook\n",
    "HTML(proj.animation.to_jshtml())"
   ]
  },
  {
   "cell_type": "markdown",
   "metadata": {
    "Collapsed": "false",
    "heading_collapsed": true
   },
   "source": [
    "### Stimtable"
   ]
  },
  {
   "cell_type": "code",
   "execution_count": null,
   "metadata": {
    "Collapsed": "false",
    "hidden": true
   },
   "outputs": [],
   "source": [
    "pd.DataFrame(proj.stimtable)"
   ]
  },
  {
   "cell_type": "markdown",
   "metadata": {
    "Collapsed": "false",
    "heading_collapsed": true
   },
   "source": [
    "### Potential at point"
   ]
  },
  {
   "cell_type": "code",
   "execution_count": null,
   "metadata": {
    "Collapsed": "false",
    "hidden": true
   },
   "outputs": [],
   "source": [
    "x, y = (50,50)\n",
    "\n",
    "x_ind = int(x/(proj.mult_x*proj.drx))\n",
    "y_ind = int(y/(proj.mult_y*proj.dry))\n",
    "\n",
    "proj.load_udat()\n",
    "time_axis = np.arange(0, proj.frames_number) * proj.dT\n",
    "        \n",
    "potential_fig = figure(num=None, figsize=(14, 4), dpi=80, facecolor='w')\n",
    "plt.plot(list(time_axis), list(proj.get_point_in_time(x_ind,y_ind)), linewidth=1, color='red')\n",
    "plt.title('Potential at point (%.2f, %.2f), indices (%d, %d)' % \n",
    "          (x_ind * proj.drx * proj.mult_x, y_ind * proj.dry * proj.mult_y, x_ind, y_ind))\n",
    "plt.grid(True)\n",
    "# plt.xlim(10000,15000)\n",
    "# plt.ylim(-100,110)\n",
    "\n",
    "plt.show()"
   ]
  },
  {
   "cell_type": "markdown",
   "metadata": {
    "Collapsed": "false",
    "heading_collapsed": true
   },
   "source": [
    "### Periods by AP"
   ]
  },
  {
   "cell_type": "code",
   "execution_count": null,
   "metadata": {
    "Collapsed": "false",
    "hidden": true
   },
   "outputs": [],
   "source": [
    "start_t, end_t, u_level = (500, 2900, 50)\n",
    "start_t_ind, end_t_ind = int(start_t/proj.dT), int(end_t/proj.dT)\n",
    "\n",
    "times, periods = proj.calculate_periods(x=x_ind, y=y_ind, start=start_t_ind, end=end_t_ind, u_level=u_level)\n",
    "\n",
    "figure(num=None, figsize=(12, 4), dpi=80, facecolor='w')\n",
    "plt.scatter(times, periods, s=7)\n",
    "plt.grid()\n",
    "plt.title(\"Periods at point (%.2f, %.2f) on interval [%.2f, %.2f]. Potential level = %.2f.\" % \n",
    "          (x_ind*proj.drx*proj.mult_x, y_ind*proj.dry*proj.mult_y, start_t_ind*proj.dT, end_t, u_level))\n",
    "plt.show()\n",
    "print(np.average(periods))"
   ]
  },
  {
   "cell_type": "markdown",
   "metadata": {
    "Collapsed": "false",
    "heading_collapsed": true
   },
   "source": [
    "### APD"
   ]
  },
  {
   "cell_type": "code",
   "execution_count": null,
   "metadata": {
    "Collapsed": "false",
    "hidden": true
   },
   "outputs": [],
   "source": [
    "# get APD_X\n",
    "x, y, start_t, end_t = (10, 10, 500, 60000)\n",
    "\n",
    "x_ind = int(x/(proj.mult_x*proj.drx))\n",
    "y_ind = int(y/(proj.mult_y*proj.dry))\n",
    "start_t_ind = int(start_t/proj.dT)\n",
    "end_t_ind = int(end_t/proj.dT)\n",
    "\n",
    "times, apds = proj.calculate_APD_by_percentage(x=x_ind, y=y_ind, start=start_t_ind, end=end_t_ind, APD_percent=.9)\n",
    "\n",
    "figure(num=None, figsize=(12, 4), dpi=80, facecolor='w')\n",
    "plt.scatter(times, apds, s=7)\n",
    "plt.grid()\n",
    "# plt.title(\"APD_%d at point (%.2f, %.2f) in interval [%.2f, %.2f]. Potential level = %.2f.\" % \n",
    "#           (APD_level, x_ind*proj.drx*proj.mult_x, y_ind*proj.dry*proj.mult_y, start_t_ind*proj.dT, proj.calc_time, APD_level))\n",
    "# plt.xlim(0,8000)\n",
    "# plt.ylim(200,230)\n",
    "print(\"Avg APD90: %.2f, Median APD90: %.2f\" % (np.average(apds), np.median(apds)))\n",
    "plt.show()"
   ]
  },
  {
   "cell_type": "markdown",
   "metadata": {
    "Collapsed": "false",
    "heading_collapsed": true
   },
   "source": [
    "### Trajectory"
   ]
  },
  {
   "cell_type": "code",
   "execution_count": null,
   "metadata": {
    "Collapsed": "false",
    "hidden": true
   },
   "outputs": [],
   "source": [
    "traject_fig = figure(num=None, figsize=(6, 6), dpi=80, facecolor='w')\n",
    "proj.load_tips()\n",
    "tips = proj.tips[proj.tips[:,0] < 1000]\n",
    "\n",
    "ax = plt.gca()\n",
    "ax.set_axisbelow(True)\n",
    "\n",
    "plt.xlim(xmax = proj.nx * proj.drx, xmin = 0)\n",
    "plt.ylim(ymax = proj.ny * proj.dry, ymin = 0)\n",
    "plt.scatter(tips[:,2], tips[:,3], color='red', s=1)\n",
    "plt.grid(True)"
   ]
  },
  {
   "cell_type": "markdown",
   "metadata": {
    "Collapsed": "false",
    "heading_collapsed": true
   },
   "source": [
    "### Wavelength"
   ]
  },
  {
   "cell_type": "code",
   "execution_count": null,
   "metadata": {
    "Collapsed": "false",
    "hidden": true
   },
   "outputs": [],
   "source": [
    "# get wavelength\n",
    "y, rest_level, frame_number = (50, 7, 400)\n",
    "y_ind = int(y/(proj.mult_y*proj.dry))\n",
    "\n",
    "frame_fig = figure(num=None, figsize=(6, 6), dpi=80, facecolor='w')\n",
    "frame = proj.frames[frame_number]\n",
    "plt.imshow(frame, origin='lower', interpolation='none', extent=[0, proj.nx * proj.drx, 0, proj.ny * proj.dry], vmin=np.amin(frames), vmax=25)\n",
    "plt.plot([0, proj.nx*proj.drx], [(y_ind)*proj.dry*proj.mult_y]*2, color='black')\n",
    "plt.title('Spiral wave motion at %.2f ms' % (frame_number*proj.dT))\n",
    "plt.show()\n",
    "\n",
    "xs, wls = proj.calculate_wavelength(y=y_ind, u_level=rest_level, frame_number=frame_number)\n",
    "print(wls)\n",
    "\n",
    "figure(num=None, figsize=(12, 4), dpi=80, facecolor='w')\n",
    "plt.scatter(xs, wls, s=7)\n",
    "plt.grid()\n",
    "plt.show()"
   ]
  },
  {
   "cell_type": "markdown",
   "metadata": {
    "Collapsed": "false",
    "heading_collapsed": true
   },
   "source": [
    "### 1D vs 2D comparison"
   ]
  },
  {
   "cell_type": "code",
   "execution_count": null,
   "metadata": {
    "Collapsed": "false",
    "hidden": true
   },
   "outputs": [],
   "source": [
    "# for 1D vs 2D comparison\n",
    "\n",
    "layer_num=0\n",
    "layer_in_time = [np.array(frame[layer_num]) for frame in proj.frames]\n",
    "\n",
    "np.savetxt('/misc/home1/u1220/lvc/analysis_jupyter/_trash/TP06sl14norm_strip_to_cabel.dat', layer_in_time, fmt=\"%d\")"
   ]
  }
 ],
 "metadata": {
  "kernelspec": {
   "display_name": "Python 3",
   "language": "python",
   "name": "python3"
  },
  "language_info": {
   "codemirror_mode": {
    "name": "ipython",
    "version": 3
   },
   "file_extension": ".py",
   "mimetype": "text/x-python",
   "name": "python",
   "nbconvert_exporter": "python",
   "pygments_lexer": "ipython3",
   "version": "3.6.6"
  },
  "toc": {
   "base_numbering": 1,
   "nav_menu": {},
   "number_sections": true,
   "sideBar": false,
   "skip_h1_title": false,
   "title_cell": "Table of Contents",
   "title_sidebar": "Contents",
   "toc_cell": false,
   "toc_position": {
    "height": "288.542px",
    "left": "1206.83px",
    "top": "52px",
    "width": "196.271px"
   },
   "toc_section_display": true,
   "toc_window_display": true
  }
 },
 "nbformat": 4,
 "nbformat_minor": 4
}
