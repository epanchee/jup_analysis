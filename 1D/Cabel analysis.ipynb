{
 "cells": [
  {
   "cell_type": "code",
   "execution_count": null,
   "metadata": {
    "Collapsed": "false"
   },
   "outputs": [],
   "source": [
    "!jt -t grade3 -cellw 90% -ofs 12"
   ]
  },
  {
   "cell_type": "markdown",
   "metadata": {
    "Collapsed": "false",
    "heading_collapsed": true
   },
   "source": [
    "### Import libs"
   ]
  },
  {
   "cell_type": "code",
   "execution_count": null,
   "metadata": {
    "Collapsed": "false",
    "hidden": true,
    "init_cell": true
   },
   "outputs": [],
   "source": [
    "import matplotlib\n",
    "import numpy as np\n",
    "%matplotlib widget\n",
    "from matplotlib.pyplot import figure, draw\n",
    "import matplotlib.pyplot as plt\n",
    "import math\n",
    "import matplotlib.animation as animation\n",
    "from IPython.display import HTML\n",
    "\n",
    "LVC_path = '/misc/home/u1220/analysis_jupyter'\n",
    "import sys\n",
    "sys.path.remove('/home/u1220/lvd_aniso/jupiter_books') if '/home/u1220/lvd_aniso/jupiter_books' in sys.path else None\n",
    "sys.path.append(LVC_path) if not LVC_path in sys.path else None\n",
    "\n",
    "from LVC.LVCcase_cabel import CabelCase\n",
    "plt.style.use('LVC')"
   ]
  },
  {
   "cell_type": "markdown",
   "metadata": {
    "Collapsed": "false"
   },
   "source": [
    "### Load data"
   ]
  },
  {
   "cell_type": "code",
   "execution_count": null,
   "metadata": {
    "Collapsed": "false",
    "init_cell": true
   },
   "outputs": [],
   "source": [
    "proj = CabelCase(project_folder=r'/misc/home/u1220/lvd_aniso/1D_APmu/results/id_2225/APmu_orig0_')\n",
    "proj.read_input()"
   ]
  },
  {
   "cell_type": "code",
   "execution_count": null,
   "metadata": {
    "Collapsed": "false",
    "init_cell": true
   },
   "outputs": [],
   "source": [
    "proj.load_udat(verbose=True)"
   ]
  },
  {
   "cell_type": "markdown",
   "metadata": {
    "Collapsed": "false"
   },
   "source": [
    "### Heatmap"
   ]
  },
  {
   "cell_type": "code",
   "execution_count": null,
   "metadata": {
    "Collapsed": "false"
   },
   "outputs": [],
   "source": [
    "fig = figure(num=None, figsize=(14, 5), dpi=80, facecolor='w')\n",
    "\n",
    "proj.draw_heatmap(plt, vmax=25)\n",
    "# plt.xlim([30000, 31000])"
   ]
  },
  {
   "cell_type": "markdown",
   "metadata": {
    "Collapsed": "true",
    "heading_collapsed": true
   },
   "source": [
    "### Animation"
   ]
  },
  {
   "cell_type": "code",
   "execution_count": null,
   "metadata": {
    "Collapsed": "false",
    "hidden": true
   },
   "outputs": [],
   "source": [
    "def draw_frame(i):\n",
    "    plt.yticks([])\n",
    "    plt.xticks(range(0, int(proj.N*proj.dr) + 1, 25 ))\n",
    "    return plt.imshow(get_frame(i), origin='lower', interpolation='none', extent=[0, proj.N*proj.dr, 0, 1], animated=True, \n",
    "                      vmin=np.amin(proj.udat), vmax=100)\n",
    "\n",
    "\n",
    "def get_frame(i):\n",
    "    return np.array([proj.udat[i,:]])\n",
    "\n",
    "fig = figure(num=None, figsize=(8, 2), dpi=80, facecolor='w')\n",
    "draw_frame(10)"
   ]
  },
  {
   "cell_type": "code",
   "execution_count": null,
   "metadata": {
    "Collapsed": "false",
    "hidden": true
   },
   "outputs": [],
   "source": [
    "def animate(i):\n",
    "    canvas.set_data(get_frame(i))\n",
    "    return canvas,\n",
    "\n",
    "fig = figure(num=None, figsize=(8, 2), dpi=80, facecolor='w')\n",
    "canvas = draw_frame(0)\n",
    "\n",
    "%matplotlib\n",
    "ani = animation.FuncAnimation(fig, animate, frames=range(0, 2000, 2), repeat=False)\n",
    "%matplotlib notebook\n",
    "# ani.save(\"/misc/home1/u1220/lvc/analysis_jupyter/_trash/1D_Wenckebach.gif\",  writer='imagemagick', fps=60)\n",
    "\n",
    "HTML(ani.to_jshtml())"
   ]
  },
  {
   "cell_type": "markdown",
   "metadata": {
    "Collapsed": "true",
    "heading_collapsed": true
   },
   "source": [
    "### Potential"
   ]
  },
  {
   "cell_type": "code",
   "execution_count": null,
   "metadata": {
    "Collapsed": "false",
    "hidden": true
   },
   "outputs": [],
   "source": [
    "# point_x = 3\n",
    "# x_ind = int(point_x/(proj.mult*proj.dr))\n",
    "x_ind = int(proj.udat[0].size/2)\n",
    "\n",
    "fig = figure(num=None, figsize=(14, 5), dpi=80, facecolor='w')\n",
    "plt.grid()\n",
    "plt.title(\"Potential in time at point %.2f\" % (x_ind * proj.dr * proj.mult), fontsize=14)\n",
    "plt.xlabel('Time, ms', fontsize=14)\n",
    "plt.ylabel('Potential, mV', fontsize=14)\n",
    "plt.tight_layout()\n",
    "# plt.xlim([50000, 51000])\n",
    "plt.plot(np.arange(0, proj.time, proj.dT), proj.udat[:,x_ind])"
   ]
  },
  {
   "cell_type": "markdown",
   "metadata": {
    "Collapsed": "true",
    "heading_collapsed": true
   },
   "source": [
    "### APD"
   ]
  },
  {
   "cell_type": "code",
   "execution_count": null,
   "metadata": {
    "Collapsed": "false",
    "hidden": true
   },
   "outputs": [],
   "source": [
    "# get APDX (by percentage)\n",
    "\n",
    "x, start_t, APD_percent = (125, 100, 0.9)\n",
    "\n",
    "x_ind = int(x/(proj.mult*proj.dr))\n",
    "start_t_ind = int(start_t/proj.dT)\n",
    "\n",
    "times, apds, dis = proj.calculate_APD_by_percentage_with_DI(x=x_ind, start=start_t_ind, APD_percent=.9)\n",
    "print(apds)\n",
    "# print(dis)"
   ]
  },
  {
   "cell_type": "code",
   "execution_count": null,
   "metadata": {
    "Collapsed": "false",
    "hidden": true
   },
   "outputs": [],
   "source": [
    "# get APD_X\n",
    "x, start_t, APD_level = (125, 100, -70)\n",
    "\n",
    "x_ind = int(x/(proj.mult*proj.dr))\n",
    "start_t_ind = int(start_t/proj.dT)\n",
    "\n",
    "times, apds = proj.calculate_APD_X(x=x_ind, start=start_t_ind, u_level=APD_level)\n",
    "print(apds)"
   ]
  },
  {
   "cell_type": "markdown",
   "metadata": {
    "Collapsed": "false"
   },
   "source": [
    "### Periods"
   ]
  },
  {
   "cell_type": "code",
   "execution_count": null,
   "metadata": {
    "Collapsed": "false"
   },
   "outputs": [],
   "source": [
    "x, start_t, u_level = (8, 0, .2)\n",
    "start_t_ind = int(start_t/proj.dT)\n",
    "times, periods = proj.calculate_periods(x=x, u_level=u_level, start=start_t_ind)\n",
    "fig = figure(num=None, figsize=(14, 5), dpi=80, facecolor='w')\n",
    "plt.scatter(times, periods, s=5)\n",
    "plt.grid()"
   ]
  },
  {
   "cell_type": "markdown",
   "metadata": {
    "Collapsed": "true",
    "heading_collapsed": true
   },
   "source": [
    "### Velocity"
   ]
  },
  {
   "cell_type": "code",
   "execution_count": null,
   "metadata": {
    "Collapsed": "false",
    "hidden": true
   },
   "outputs": [],
   "source": [
    "# get velocity\n",
    "\n",
    "vel = proj.get_velocity(left=30, right=220, u_level=20, verbose=True)\n",
    "print(round(vel,2))"
   ]
  },
  {
   "cell_type": "markdown",
   "metadata": {
    "Collapsed": "true",
    "heading_collapsed": true
   },
   "source": [
    "### Measured periods"
   ]
  },
  {
   "cell_type": "code",
   "execution_count": null,
   "metadata": {
    "Collapsed": "false",
    "hidden": true
   },
   "outputs": [],
   "source": [
    "c = 40\n",
    "(x1, x2, y1, y2) = (200, 360, 200, 500)\n",
    "figure(num=None, figsize=((x2-x1)/c+1, (y2-y1)/c), dpi=80, facecolor='w')\n",
    "# figure(num=None, figsize=(8, 8), dpi=80, facecolor='w')\n",
    "\n",
    "res = proj.get_measured_vs_stimulated(_error=.4)\n",
    "\n",
    "plt.scatter(res[:,0], res[:,2], marker='o', color='red', s=3)\n",
    "plt.xticks(fontsize=16)\n",
    "plt.yticks(fontsize=16)\n",
    "plt.title(\"Measured period at point 50 mm\", fontsize=16)\n",
    "plt.xlabel(\"Stimulation period, ms\", fontsize=16)\n",
    "plt.ylabel(\"Measured period, ms\", fontsize=16)\n",
    "plt.grid()\n",
    "# plt.yticks(range(y1,y2+1,40))\n",
    "# plt.xticks(range(x1,x2+1,40))\n",
    "plt.xlim(x1, x2)\n",
    "plt.ylim(y1, y2)\n",
    "plt.tight_layout()\n",
    "\n",
    "plt.show()"
   ]
  }
 ],
 "metadata": {
  "kernelspec": {
   "display_name": "Python 3",
   "language": "python",
   "name": "python3"
  },
  "language_info": {
   "codemirror_mode": {
    "name": "ipython",
    "version": 3
   },
   "file_extension": ".py",
   "mimetype": "text/x-python",
   "name": "python",
   "nbconvert_exporter": "python",
   "pygments_lexer": "ipython3"
  },
  "toc": {
   "base_numbering": 1,
   "nav_menu": {},
   "number_sections": true,
   "sideBar": false,
   "skip_h1_title": false,
   "title_cell": "Table of Contents",
   "title_sidebar": "Contents",
   "toc_cell": false,
   "toc_position": {
    "height": "262.431px",
    "left": "1233.28px",
    "top": "52px",
    "width": "165px"
   },
   "toc_section_display": true,
   "toc_window_display": true
  }
 },
 "nbformat": 4,
 "nbformat_minor": 4
}
