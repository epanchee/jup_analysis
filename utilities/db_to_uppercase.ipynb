{
 "cells": [
  {
   "cell_type": "code",
   "execution_count": 3,
   "metadata": {},
   "outputs": [],
   "source": [
    "dbpath = '/misc/home/u1220/lvd_aniso/mol_a_LR/results_LR/db.ini'\n",
    "\n",
    "db = open(dbpath, 'r')\n",
    "content = db.read()\n",
    "db.close()\n",
    "\n",
    "content = content.replace('s2_x', 'S2_x')\n",
    "content = content.replace('s2_y', 'S2_y')\n",
    "content = content.replace('diffuz1', 'Diffuz1')\n",
    "content = content.replace('diffuz2', 'Diffuz2')\n",
    "content = content.replace('i_stim', 'I_stim')\n",
    "content = content.replace('s1_width ', 'S1_width ')\n",
    "content = content.replace('s2_width ', 'S2_width ')\n",
    "content = content.replace('c_gna ', 'c_gNa ')\n",
    "content = content.replace('nbegin ', 'Nbegin ')\n",
    "content = content.replace('deltat ', 'deltaT ')\n",
    "content = content.replace('ttarget ', 'Ttarget ')\n",
    "content = content.replace('nrepeat ', 'Nrepeat ')\n",
    "content = content.replace('description ', 'Description ')\n",
    "content = content.replace('s_last_t ', 'S_last_t ')\n",
    "content = content.replace('l_limit_s2 ', 'l_limit_S2 ')\n",
    "\n",
    "db = open(dbpath, 'w')\n",
    "db.write(content)\n",
    "db.close()"
   ]
  }
 ],
 "metadata": {
  "kernelspec": {
   "display_name": "Python 3",
   "language": "python",
   "name": "python3"
  },
  "language_info": {
   "codemirror_mode": {
    "name": "ipython",
    "version": 3
   },
   "file_extension": ".py",
   "mimetype": "text/x-python",
   "name": "python",
   "nbconvert_exporter": "python",
   "pygments_lexer": "ipython3",
   "version": "3.6.6"
  }
 },
 "nbformat": 4,
 "nbformat_minor": 4
}
