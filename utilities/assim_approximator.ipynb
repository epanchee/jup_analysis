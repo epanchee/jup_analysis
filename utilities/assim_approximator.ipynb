{
 "cells": [
  {
   "cell_type": "code",
   "execution_count": null,
   "metadata": {
    "Collapsed": "false"
   },
   "outputs": [],
   "source": [
    "import numpy as np"
   ]
  },
  {
   "cell_type": "code",
   "execution_count": null,
   "metadata": {
    "Collapsed": "false"
   },
   "outputs": [],
   "source": [
    "# get approximate running time of assimilable periods checker\n",
    "\n",
    "pace_period=94\n",
    "Ttarget=54\n",
    "deltaT=-1\n",
    "Nrepeat=1\n",
    "Nbegin=1\n",
    "\n",
    "avg_p = np.average(np.arange(pace_period, Ttarget+np.sign(deltaT), deltaT))\n",
    "stim_num = abs(int((pace_period - Ttarget)/deltaT)) * Nrepeat\n",
    "avg_t = avg_p * stim_num + Nbegin*pace_period\n",
    "\n",
    "print(\"The simulation will take approximately %d ms\" % avg_t)"
   ]
  },
  {
   "cell_type": "code",
   "execution_count": null,
   "metadata": {
    "Collapsed": "false",
    "jupyter": {
     "source_hidden": true
    }
   },
   "outputs": [],
   "source": [
    "# APD restitution curve input generator\n",
    "\n",
    "line = \"t_S=\"\n",
    "\n",
    "pace_period=290\n",
    "\n",
    "stimuli_num=30\n",
    "pace_stop=(stimuli_num + 1) * pace_period\n",
    "iterations=60\n",
    "step = 5\n",
    "reserved = 2000\n",
    "\n",
    "print(\"\"\"pace_period=%d\n",
    "pace_stop=%d\n",
    "t_S=%d...%d...%d\n",
    "N=1000\n",
    "space_mult=10\n",
    "print_every=5\n",
    "dt=0.02\n",
    "t1=%d\"\"\" \\\n",
    "      % (pace_period, pace_stop, pace_stop, step, pace_stop + step * iterations, pace_stop + step * iterations + reserved))"
   ]
  }
 ],
 "metadata": {
  "kernelspec": {
   "display_name": "Python 3",
   "language": "python",
   "name": "python3"
  },
  "language_info": {
   "codemirror_mode": {
    "name": "ipython",
    "version": 3
   },
   "file_extension": ".py",
   "mimetype": "text/x-python",
   "name": "python",
   "nbconvert_exporter": "python",
   "pygments_lexer": "ipython3",
   "version": "3.6.6"
  }
 },
 "nbformat": 4,
 "nbformat_minor": 4
}
