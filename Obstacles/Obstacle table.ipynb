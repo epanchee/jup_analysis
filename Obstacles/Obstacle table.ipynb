{
 "cells": [
  {
   "cell_type": "code",
   "execution_count": null,
   "metadata": {
    "Collapsed": "false"
   },
   "outputs": [],
   "source": [
    "LVC_path = '/misc/home/u1220/analysis_jupyter'\n",
    "import sys\n",
    "sys.path.remove('/home/u1220/lvd_aniso/jupiter_books') if '/home/u1220/lvd_aniso/jupiter_books' in sys.path else None\n",
    "sys.path.append(LVC_path) if not LVC_path in sys.path else None\n",
    "\n",
    "from LVC.LVC_table import LVC_table\n",
    "import pandas as pd"
   ]
  },
  {
   "cell_type": "code",
   "execution_count": null,
   "metadata": {
    "Collapsed": "false"
   },
   "outputs": [],
   "source": [
    "# pd.set_option('display.max_rows', 1000)\n",
    "# pd.set_option('display.max_columns', 50)\n",
    "pd.set_option('display.max_colwidth', -1)\n",
    "\n",
    "allowed = [\n",
    "    'pace_period',\n",
    "    #     'Ttarget',\n",
    "    'pace_start',\n",
    "    't1',\n",
    "#     'electrode',\n",
    "#     'space_mult_x',\n",
    "#     'space_mult_y',\n",
    "#     'drx',\n",
    "#     'dry',\n",
    "#     'nx',\n",
    "#     'ny',\n",
    "#     'diffuz1',\n",
    "    'Diffuz2',\n",
    "    'u_low',\n",
    "    'smartstim',\n",
    "    'c_gNa',\n",
    "    'Ttarget',\n",
    "    'Description',\n",
    "    'path',\n",
    "    'status'\n",
    "]\n",
    "\n",
    "# lvc_table = LVC_table(results_path='/misc/home/u1220/lvd_aniso/mol_a_2nd/results_TP06')\n",
    "lvc_table = LVC_table(results_path='/misc/home/u1220/lvd_aniso/mol_a_LR/results_LR')\n",
    "lvc_table.get_tableDF(allowed=allowed)"
   ]
  },
  {
   "cell_type": "markdown",
   "metadata": {
    "Collapsed": "true",
    "heading_collapsed": true
   },
   "source": [
    "### Old version"
   ]
  },
  {
   "cell_type": "code",
   "execution_count": null,
   "metadata": {
    "Collapsed": "false",
    "hidden": true
   },
   "outputs": [],
   "source": [
    "import pandas as pd\n",
    "import configparser\n",
    "import ipywidgets as widgets\n",
    "import os, re\n",
    "import numpy as np\n",
    "\n",
    "class LVC_table:\n",
    "\n",
    "    def __init__(self, results_path='', database_path='', path_template=''):\n",
    "        self.results_path = results_path\n",
    "        self.database_path = \"%s/db.ini\" % results_path if database_path == '' else database_path\n",
    "        self.path_template = \"%s/id_%%d\" % results_path if path_template == '' else path_template\n",
    "        self.settings = configparser.ConfigParser()\n",
    "        self.settings.read(self.database_path)\n",
    "        \n",
    "    def get_tableDF(self, allowed=[]):\n",
    "        return pd.DataFrame(self.settings2DataFrame(), columns=allowed)\n",
    "        \n",
    "    def settings2DataFrame(self):\n",
    "        db = []\n",
    "        settings = self.settings\n",
    "        for exp in settings:\n",
    "            vrs = settings[exp]\n",
    "            if exp == 'main' or exp == 'DEFAULT':\n",
    "                continue\n",
    "            id = int(exp)\n",
    "            v_arr = {}\n",
    "            for option in vrs:\n",
    "                    v_arr[option] = vrs[option]\n",
    "            v_arr['path'] = self.path_template % id\n",
    "            v_arr['status'] = checkStatus(v_arr['path'])\n",
    "            db.append(v_arr)\n",
    "\n",
    "        return db\n",
    "                \n",
    "    \n",
    "def checkStatus(case):\n",
    "    dirs = os.listdir(case)\n",
    "    dirs = [x for x in dirs if x != 'source' and x != 'sources' and os.path.isdir(\"%s/%s\" % (case, x))]\n",
    "    for dr in dirs:\n",
    "        files = os.listdir(\"%s/%s\" % (case, dr))\n",
    "        slurm_files = [x for x in files if re.match('slurm', x) is not None]\n",
    "        \n",
    "        if len(slurm_files) == 0:\n",
    "            STATUS = \"PENDING\"\n",
    "            break\n",
    "        else:\n",
    "            slurm_content = open(\"%s/%s/%s\" % (case, dr, slurm_files[-1]), 'r').read()\n",
    "            if 'Time of calculation' in slurm_content:\n",
    "                STATUS = \"COMPLETED\"\n",
    "            elif 'Exited with exit code 2' in slurm_content or 'CANCELLED' in slurm_content:\n",
    "                STATUS = \"FAILED\"\n",
    "                break;\n",
    "            else:\n",
    "                proc_tab = np.array(re.findall(r'(\\d+).\\d+%', slurm_content))\n",
    "                proc_tab = proc_tab.astype(np.int)\n",
    "                STATUS = \"RUNNING (%d%%)\" % proc_tab[-1]\n",
    "#                 break;                \n",
    "    \n",
    "    return STATUS"
   ]
  }
 ],
 "metadata": {
  "kernelspec": {
   "display_name": "Python 3",
   "language": "python",
   "name": "python3"
  },
  "language_info": {
   "codemirror_mode": {
    "name": "ipython",
    "version": 3
   },
   "file_extension": ".py",
   "mimetype": "text/x-python",
   "name": "python",
   "nbconvert_exporter": "python",
   "pygments_lexer": "ipython3",
   "version": "3.6.6"
  },
  "toc": {
   "base_numbering": 1,
   "nav_menu": {},
   "number_sections": true,
   "sideBar": true,
   "skip_h1_title": false,
   "title_cell": "Table of Contents",
   "title_sidebar": "Contents",
   "toc_cell": false,
   "toc_position": {},
   "toc_section_display": true,
   "toc_window_display": false
  }
 },
 "nbformat": 4,
 "nbformat_minor": 4
}
