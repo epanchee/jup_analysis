{
 "cells": [
  {
   "cell_type": "code",
   "execution_count": null,
   "metadata": {
    "Collapsed": "false"
   },
   "outputs": [],
   "source": [
    "import numpy as np\n",
    "import sys\n",
    "np.set_printoptions(threshold=sys.maxsize)\n",
    "import cv2 as cv\n",
    "import matplotlib.pyplot as plt\n",
    "from matplotlib.pyplot import figure\n",
    "from IPython.display import HTML\n",
    "import matplotlib.patches as patches\n",
    "%matplotlib widget"
   ]
  },
  {
   "cell_type": "code",
   "execution_count": null,
   "metadata": {
    "Collapsed": "false"
   },
   "outputs": [],
   "source": [
    "img = cv.imread('/misc/home/u1220/analysis_jupyter/_trash/scar/scar_rupa-1.jpg')\n",
    "imgray = cv.cvtColor(img, cv.COLOR_BGR2GRAY)\n",
    "ret, thresh = cv.threshold(imgray, 127, 255, 0)\n",
    "im2, contours, hierarchy = cv.findContours(thresh, cv.RETR_TREE, cv.CHAIN_APPROX_SIMPLE)"
   ]
  },
  {
   "cell_type": "code",
   "execution_count": null,
   "metadata": {
    "Collapsed": "false"
   },
   "outputs": [],
   "source": [
    "cnt = contours[3]\n",
    "cntrs = cv.drawContours(img, [cnt], 0, (255,0,0), 3)\n",
    "fig = figure(num=None, figsize=(6, 6), dpi=80, facecolor='w')\n",
    "plt.imshow(cv.cvtColor(imgray, cv.COLOR_GRAY2RGB))"
   ]
  },
  {
   "cell_type": "code",
   "execution_count": null,
   "metadata": {
    "Collapsed": "false"
   },
   "outputs": [],
   "source": [
    "from shapely import affinity\n",
    "from shapely.geometry import MultiPoint, Polygon, Point\n",
    "\n",
    "my_cnt = contours[3]\n",
    "np_cnt= np.array([c[0] for c in my_cnt])\n",
    "fig = figure(num=None, figsize=(10, 6), dpi=80, facecolor='w')\n",
    "\n",
    "# right wing\n",
    "np_cnt = np_cnt[(np_cnt[:,0] <= 104) & (np_cnt[:,1] >= 47)]\n",
    "\n",
    "# scaling down\n",
    "len_x, len_y = 2*(np.max(np_cnt[:,0])-np.min(np_cnt[:,0])), 2*(np.max(np_cnt[:,1])-np.min(np_cnt[:,1]))\n",
    "real_x = 40\n",
    "real_y = real_x*(len_y/len_x)\n",
    "scale_x, scale_y = real_x/len_x, real_y/len_y\n",
    "np_cnt = np.array(affinity.scale(MultiPoint(np_cnt), xfact=scale_x, yfact=scale_y, origin=(np.min(np_cnt[:,0]),np.min(np_cnt[:,1]))))\n",
    "\n",
    "# right top\n",
    "ref_cnt = np.array(affinity.scale(MultiPoint(np_cnt), xfact=-1, yfact=1)) # reflecting right top wing\n",
    "ref_cnt[:,0] = ref_cnt[:,0]+(np.max(np_cnt[:,0])-np.min(np_cnt[:,0]))\n",
    "ref_cnt = ref_cnt[::-1]\n",
    "np_cnt = np.concatenate((np_cnt, ref_cnt))\n",
    "\n",
    "# bottom\n",
    "ref_cnt = np.array(affinity.scale(MultiPoint(np_cnt), xfact=1, yfact=-1)) # reflecting full bottom part\n",
    "ref_cnt[:,1] = ref_cnt[:,1]-(np.max(np_cnt[:,1])-np.min(np_cnt[:,1]))\n",
    "ref_cnt = ref_cnt[::-1]\n",
    "np_cnt = np.concatenate((np_cnt, ref_cnt))\n",
    "\n",
    "bc_x, bc_y = np.min(np_cnt[:,0]), np.min(np_cnt[:,1])\n",
    "sh_cnt = MultiPoint(np_cnt)\n",
    "sh_cnt = affinity.translate(sh_cnt, xoff=-bc_x, yoff=-bc_y) # move to (0,0)\n",
    "np_cnt = np.array(sh_cnt)\n",
    "\n",
    "rect = patches.Rectangle((0, 0), real_x, real_y, linewidth=1, edgecolor='r', facecolor='none')\n",
    "ax = plt.gca()\n",
    "ax.add_patch(rect)\n",
    "plt.plot(np_cnt[:,0], np_cnt[:,1], marker='.')\n",
    "# plt.xticks(ticks=np.arange(0, real_x+1, .25), labels=[])\n",
    "# plt.yticks(ticks=np.arange(0, real_y+1, .25), labels=[])\n",
    "# plt.xlim([0, int(real_x)+1])\n",
    "# plt.ylim([0, int(real_y)+1])\n",
    "plt.grid()"
   ]
  },
  {
   "cell_type": "code",
   "execution_count": null,
   "metadata": {
    "Collapsed": "false"
   },
   "outputs": [],
   "source": [
    "dx, dy = .25, .25\n",
    "nx, ny = int(real_x/dx)+1, int(real_y/dy)+1\n",
    "mask = np.empty([nx, ny])\n",
    "poly_cnt = Polygon(sh_cnt)\n",
    "for i in range(nx):\n",
    "    for j in range(ny):\n",
    "        p = Point(i*dx, j*dy)\n",
    "        mask[i][j] = 1 if p.touches(poly_cnt) or p.within(poly_cnt) else 0\n",
    "        \n",
    "# mask = np.transpose(mask)"
   ]
  },
  {
   "cell_type": "code",
   "execution_count": null,
   "metadata": {
    "Collapsed": "false"
   },
   "outputs": [],
   "source": [
    "# REFINEMENT\n",
    "\n",
    "for i in np.arange(1, len(mask)-1):\n",
    "    for j in np.arange(1, len(mask[i])-1):\n",
    "        if mask[i][j] != 1:\n",
    "            if (mask[i-1][j] == 1 and mask[i+1][j] == 1 and mask[i][j+1] == 1) or \\\n",
    "            (mask[i][j-1] == 1 and mask[i-1][j] == 1 and mask[i+1][j] == 1) or \\\n",
    "            (mask[i-1][j] == 1 and mask[i][j+1] == 1 and mask[i][j-1] == 1) or \\\n",
    "            (mask[i+1][j] == 1 and mask[i][j+1] == 1 and mask[i][j-1] == 1) or \\\n",
    "            (mask[i-1][j] == 1 and mask[i+1][j] == 1) or \\\n",
    "            (mask[i][j+1] == 1 and mask[i][j-1] == 1):\n",
    "                print(mask[i-1:i+2,j-1:j+2])\n",
    "                print(\"%d %d\" % (i, j))\n",
    "                mask[i][j] = 1\n",
    "        if mask[i][j] == 1:\n",
    "            if mask[i-1][j] == 0 and mask[i+1][j] == 0 and mask[i][j+1] == 0 and mask[i][j-1] == 0:\n",
    "                mask[i][j] = 0\n",
    "\n",
    "fig = figure(num=None, figsize=(10, 6), dpi=80, facecolor='w')\n",
    "plt.imshow(mask, origin='lower', interpolation='none')\n",
    "\n",
    "# mask = np.transpose(mask)\n",
    "np.savetxt(\"/misc/home/u1220/lvd_aniso/mol_a_2nd/scars/scar.dat\", mask, fmt=\"%d\", comments=\"\", header=\"%d %d\" % (len(mask[0]), len(mask)))\n",
    "# np.savetxt(\"/misc/home/u1220/analysis_jupyter/_trash/scar/scar.dat\", mask, fmt=\"%d\", comments=\"\", header=\"%d %d\" % (len(mask[0]), len(mask)))"
   ]
  },
  {
   "cell_type": "code",
   "execution_count": null,
   "metadata": {
    "Collapsed": "false"
   },
   "outputs": [],
   "source": [
    "inmask = np.loadtxt(\"/misc/home/u1220/lvd_aniso/2D_update/test/id_36/debug_scar.dat\", skiprows=1)\n",
    "# inmask = np.loadtxt(\"/misc/home/u1220/lvd_aniso/2D_update/scar.dat\", skiprows=1)\n",
    "\n",
    "print(\"size %dx%d\" % (len(inmask), len(inmask[0])))\n",
    "fig = figure(num=None, figsize=(10, 6), dpi=80, facecolor='w')\n",
    "plt.imshow(inmask, origin='lower')"
   ]
  },
  {
   "cell_type": "code",
   "execution_count": null,
   "metadata": {
    "Collapsed": "false"
   },
   "outputs": [],
   "source": [
    "from shapely import affinity\n",
    "from shapely.geometry import MultiPoint, Polygon, Point\n",
    "\n",
    "rec_obs= np.array([[0,0], [1,0], [1,1], [0,1]])\n",
    "len_x, len_y = (np.max(rec_obs[:,0])-np.min(rec_obs[:,0])), (np.max(rec_obs[:,1])-np.min(rec_obs[:,1]))\n",
    "real_x = 20\n",
    "real_y = real_x*(len_y/len_x)\n",
    "scale_x, scale_y = real_x/len_x, real_y/len_y\n",
    "rec_obs = np.array(affinity.scale(MultiPoint(rec_obs), xfact=scale_x, yfact=scale_y, origin=(0,0)))\n",
    "fig = figure(num=None, figsize=(10, 6), dpi=80, facecolor='w')\n",
    "plt.plot(rec_obs[:,0], rec_obs[:,1])\n",
    "plt.grid()"
   ]
  },
  {
   "cell_type": "code",
   "execution_count": null,
   "metadata": {
    "Collapsed": "false"
   },
   "outputs": [],
   "source": [
    "dx, dy = .25, .25\n",
    "# real_x, real_y = 12, 12\n",
    "nx, ny = int(real_x/dx), int(real_y/dy)\n",
    "mask = np.empty([nx, ny])\n",
    "poly_rec = Polygon(MultiPoint(rec_obs))\n",
    "for i in range(nx):\n",
    "    for j in range(ny):\n",
    "        p = Point(i*dx, j*dy)\n",
    "        mask[i][j] = 1 if p.touches(poly_rec) or p.within(poly_rec) else 0\n",
    "        \n",
    "# mask = np.transpose(mask)\n",
    "fig = figure(num=None, figsize=(10, 6), dpi=80, facecolor='w')\n",
    "plt.imshow(mask, origin='lower', vmin=0)\n",
    "\n",
    "np.savetxt(\"/misc/home/u1220/lvd_aniso/mol_a_2nd/scars/obs_20mm.dat\", mask, fmt=\"%d\", comments=\"\", header=\"%d %d\" % (len(mask[0]), len(mask)))"
   ]
  }
 ],
 "metadata": {
  "kernelspec": {
   "display_name": "Python 3",
   "language": "python",
   "name": "python3"
  },
  "language_info": {
   "codemirror_mode": {
    "name": "ipython",
    "version": 3
   },
   "file_extension": ".py",
   "mimetype": "text/x-python",
   "name": "python",
   "nbconvert_exporter": "python",
   "pygments_lexer": "ipython3",
   "version": "3.6.6"
  }
 },
 "nbformat": 4,
 "nbformat_minor": 4
}
