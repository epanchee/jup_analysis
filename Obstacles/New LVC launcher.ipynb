{
 "cells": [
  {
   "cell_type": "code",
   "execution_count": null,
   "metadata": {
    "Collapsed": "false"
   },
   "outputs": [],
   "source": [
    "LVC_path = '/misc/home/u1220/analysis_jupyter'\n",
    "import sys\n",
    "import numpy as np\n",
    "sys.path.remove('/home/u1220/lvd_aniso/jupiter_books') if '/home/u1220/lvd_aniso/jupiter_books' in sys.path else None\n",
    "sys.path.append(LVC_path) if not LVC_path in sys.path else None\n",
    "\n",
    "from LVC.LVC_launcher import LVC_launcher\n",
    "from LVC.LVC_launcher import rm_exp"
   ]
  },
  {
   "cell_type": "code",
   "execution_count": null,
   "metadata": {
    "Collapsed": "false"
   },
   "outputs": [],
   "source": [
    "launcher = LVC_launcher(\n",
    "    partitions='a23,all,nompi,apollo', sim_time='20:00:00', \n",
    "#     partitions='debug', sim_time='30:00',\n",
    "#     template='input_TP06_mol_a.template', working_dir = \"/misc/home/u1220/lvd_aniso/mol_a_2nd\", experiments_folder = 'results_TP06',\n",
    "    template='input_LR_mol_a.template', working_dir = \"/misc/home/u1220/lvd_aniso/mol_a_LR\", experiments_folder = 'results_LR',\n",
    "#     template='input_LR_mol_a.template', working_dir = \"/misc/home/u1220/lvd_aniso/mol_a_LR\", experiments_folder = 'test',\n",
    "#     template='input-LR.txt', working_dir = \"/misc/home/u1220/lvd_aniso/1D_APmu\", experiments_folder = 'LR_1D',\n",
    "    additional_jobs = [\n",
    "#         'cp /misc/home/u1220/lvd_aniso/mol_a_2nd/scars/scar.dat scar.dat',\n",
    "#         'cp /misc/home/u1220/lvd_aniso/mol_a_LR/results_LR/id_34/uv1.bin uv0.bin',\n",
    "#         'cp /misc/home/u1220/lvd_aniso/mol_a_2nd/scars/obs_12mm.dat scar.dat',\n",
    "        'cp /misc/home/u1220/lvd_aniso/mol_a_2nd/scars/obs_20mm.dat scar.dat',\n",
    "#         'cp /misc/home/u1220/lvd_aniso/mol_a_2nd/scars/empty.dat scar.dat',\n",
    "    ]\n",
    ")\n",
    "\n",
    "parameters = {\n",
    "#     't1' : 300,\n",
    "#     'chirality' : 1,\n",
    "#     'S2_x' : 20,\n",
    "#     'S2_y' : 200,\n",
    "#     'l_limit_S2' : -100,\n",
    "    'pace_start' : 1000,\n",
    "#     'electrode' : 1,\n",
    "#     'pace_period' : 10000,\n",
    "    't1' : 40000,\n",
    "#     'pace_stop' : 9393,\n",
    "#     'pace_period' : 147,\n",
    "    'pace_period' : 93,\n",
    "#     'pace_period' : list(np.arange(53,63.1,1, dtype=np.int32)),\n",
    "    'scar_stencil_i' : 160,\n",
    "    'scar_stencil_j' : 160,\n",
    "    'Diffuz2' : round(0.154/9,3),\n",
    "#     'Diffuz2' : [0.154, round(0.154/9,3)],\n",
    "#     'space_mult_x' : 8,\n",
    "#     'space_mult_y' : 8,\n",
    "#     'print_every' : 500,\n",
    "#     'u_low' : list(np.arange(-80,-50.9,1, dtype=np.dtype(int))),\n",
    "#     'smartstim' : 1,\n",
    "#     'c_gNa' : 0.25,\n",
    "#     'smartstim' : 1,\n",
    "#     'c_gNa' : [0.25], \n",
    "#     'u_low' : list(np.arange(-81,-71.9,1)),\n",
    "    'assim' : 1,\n",
    "    'Ttarget' : list(np.arange(53,63.1,1, dtype=np.int32)),\n",
    "    'deltaT' : -1,\n",
    "    'Nbegin' : 16,\n",
    "    'Nrepeat' : 1,\n",
    "#     'S_last_t' : 9393\n",
    "#     'read_from_file' : 1,\n",
    "#     'save_to_file' : 1,\n",
    "#     'Diffuz2' : [0.16, round(0.16/4,3), round(0.16/9,3)]\n",
    "#     'Diffuz2' : [0.154, round(0.154/4,3), round(0.154/9,3)]\n",
    "}\n",
    "\n",
    "launcher.set_exp_parameters(description='LR an9 20mm assim T=93->63...53', parameters=parameters)\n",
    "launcher.run(fake=False)"
   ]
  },
  {
   "cell_type": "code",
   "execution_count": null,
   "metadata": {
    "Collapsed": "false"
   },
   "outputs": [],
   "source": [
    "# RESTART EXPERIMENT\n",
    "\n",
    "launcher = LVC_launcher(\n",
    "#     partitions='debug', sim_time='30:00',\n",
    "    partitions='a23,all,nompi,apollo', sim_time='8:00:00',\n",
    "#     template='input_TP06_mol_a.template', working_dir = \"/misc/home/u1220/lvd_aniso/mol_a_2nd\", experiments_folder = 'results_TP06',\n",
    "    template='input_LR_mol_a.template', working_dir = \"/misc/home/u1220/lvd_aniso/mol_a_LR\", experiments_folder = 'results_LR',\n",
    "#     template='input_LR_mol_a.template', working_dir = \"/misc/home/u1220/lvd_aniso/mol_a_LR\", experiments_folder = 'test',\n",
    "#     template='input-LR.txt', working_dir = \"/misc/home/u1220/lvd_aniso/1D_APmu\", experiments_folder = 'LR_1D',\n",
    "#     experiments_folder='test',\n",
    "    additional_jobs = [\n",
    "#         'cp /misc/home/u1220/lvd_aniso/mol_a_2nd/results_TP06/id_45/uv1.bin uv0.bin',\n",
    "#         'cp /misc/home/u1220/lvd_aniso/mol_a_2nd/scars/obs_12mm.dat scar.dat',\n",
    "#         'cp /misc/home/u1220/lvd_aniso/mol_a_2nd/scars/scar.dat scar.dat',\n",
    "        'cp /misc/home/u1220/lvd_aniso/mol_a_2nd/scars/obs_20mm.dat scar.dat',\n",
    "        'cp /misc/home/u1220/lvd_aniso/mol_a_LR/results_LR/id_34/uv1.bin uv0.bin',\n",
    "    ]\n",
    ")\n",
    "\n",
    "params = {\n",
    "#     'pace_period' : list(np.arange(100,150.1,10, dtype=np.int32)),\n",
    "#     'S_last_t' : 1111111,\n",
    "#     'S2_x' : 20,\n",
    "#     'S2_y' : 200,\n",
    "#     't1' : 1465,\n",
    "#     'pace_start' : 0,\n",
    "#     'pace_period' : 10000,\n",
    "#     'electrode' : 1,\n",
    "#     'pace_period' : 93,\n",
    "#     'pace_stop' : 1465,\n",
    "#     'save_to_file' : 1,\n",
    "#     'smartstim' : 1,\n",
    "#     'pace_period' : list(np.arange(55,65.1,1, dtype=np.int32)),\n",
    "#     'c_gNa' : 0.25,\n",
    "#     'read_from_file' : 1,\n",
    "#     'save_to_file' : 1,\n",
    "#     'assim' : 1,\n",
    "#     'Diffuz2' : [0.154, round(0.154/9,3)],\n",
    "#     'Ttarget' : list(np.arange(53,143.1,10, dtype=np.int32)),\n",
    "#     'deltaT' : -1,\n",
    "#     'Nbegin' : 1,\n",
    "#     'Nrepeat' : 1\n",
    "#     'smartstim' : 1\n",
    "#     'u_low' : -81\n",
    "#     'S1_width' : 0\n",
    "}\n",
    "\n",
    "launcher.rerun(fake=False, exp_id=35, new_params=params, description=None, new_series=True)"
   ]
  },
  {
   "cell_type": "code",
   "execution_count": null,
   "metadata": {
    "Collapsed": "false"
   },
   "outputs": [],
   "source": [
    "# rm_exp(exps_path=\"/misc/home/u1220/lvd_aniso/mol_a_2nd/results_TP06\", exp_id=1aa1)\n",
    "# rm_exp(exps_path=\"/misc/home/u1220/lvd_aniso/mol_a_LR/results_LR\", exp_id=39)\n",
    "# rm_exp(exps_path=\"/misc/home/u1220/lvd_aniso/mol_a_LR/test\", exp_id=2a)"
   ]
  }
 ],
 "metadata": {
  "kernelspec": {
   "display_name": "Python 3",
   "language": "python",
   "name": "python3"
  },
  "language_info": {
   "codemirror_mode": {
    "name": "ipython",
    "version": 3
   },
   "file_extension": ".py",
   "mimetype": "text/x-python",
   "name": "python",
   "nbconvert_exporter": "python",
   "pygments_lexer": "ipython3",
   "version": "3.6.6"
  },
  "toc": {
   "base_numbering": 1,
   "nav_menu": {},
   "number_sections": true,
   "sideBar": true,
   "skip_h1_title": false,
   "title_cell": "Table of Contents",
   "title_sidebar": "Contents",
   "toc_cell": false,
   "toc_position": {},
   "toc_section_display": true,
   "toc_window_display": false
  }
 },
 "nbformat": 4,
 "nbformat_minor": 4
}
