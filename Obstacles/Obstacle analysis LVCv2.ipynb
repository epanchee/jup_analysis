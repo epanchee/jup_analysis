{
 "cells": [
  {
   "cell_type": "markdown",
   "metadata": {
    "Collapsed": "false",
    "heading_collapsed": true
   },
   "source": [
    "### Import"
   ]
  },
  {
   "cell_type": "code",
   "execution_count": null,
   "metadata": {
    "Collapsed": "false",
    "hidden": true,
    "init_cell": true
   },
   "outputs": [],
   "source": [
    "%matplotlib widget\n",
    "import matplotlib\n",
    "import numpy as np\n",
    "from matplotlib.pyplot import figure\n",
    "import matplotlib.pyplot as plt\n",
    "import math\n",
    "import matplotlib.patches as patches\n",
    "from IPython.display import HTML\n",
    "import pandas as pd\n",
    "\n",
    "plt.rcParams['animation.ffmpeg_path'] = '/opt/ffmpeg/bin/ffmpeg'\n",
    "\n",
    "LVC_path = '/misc/home/u1220/analysis_jupyter'\n",
    "import sys\n",
    "sys.path.remove('/home/u1220/lvd_aniso/jupiter_books') if '/home/u1220/lvd_aniso/jupiter_books' in sys.path else None\n",
    "sys.path.append(LVC_path) if not LVC_path in sys.path else None\n",
    "\n",
    "from LVC.LVCcase_v2 import LVCcase\n",
    "plt.style.use('LVC')"
   ]
  },
  {
   "cell_type": "markdown",
   "metadata": {
    "Collapsed": "false"
   },
   "source": [
    "### Load data"
   ]
  },
  {
   "cell_type": "code",
   "execution_count": null,
   "metadata": {
    "Collapsed": "false",
    "init_cell": true
   },
   "outputs": [],
   "source": [
    "%store -r proj_for_trade\n",
    "proj_for_trade = r'/misc/home/u1220/lvd_aniso/mol_a_LR/results_LR/id_38/Ttarget=53'\n",
    "print(proj_for_trade)\n",
    "proj = LVCcase(project_folder=proj_for_trade, auto_load=True, plot=plt)\n",
    "\n",
    "proj.read_input(verbose=False)"
   ]
  },
  {
   "cell_type": "markdown",
   "metadata": {
    "Collapsed": "false",
    "toc-hr-collapsed": false
   },
   "source": [
    "### Tips"
   ]
  },
  {
   "cell_type": "code",
   "execution_count": null,
   "metadata": {
    "Collapsed": "false"
   },
   "outputs": [],
   "source": [
    "tips_fig = figure(num=None, figsize=(14, 4), dpi=80, facecolor='w')\n",
    "\n",
    "proj.draw_tipXY(show_stim=True, legend=False)\n",
    "# plt.xlim(0, 1000)\n",
    "plt.show()"
   ]
  },
  {
   "cell_type": "markdown",
   "metadata": {
    "Collapsed": "false",
    "heading_collapsed": true
   },
   "source": [
    "#### udat"
   ]
  },
  {
   "cell_type": "code",
   "execution_count": null,
   "metadata": {
    "Collapsed": "false",
    "hidden": true
   },
   "outputs": [],
   "source": [
    "proj.load_udat(verbose=True, reload=True)\n",
    "proj.get_frames()\n",
    "frames = proj.frames"
   ]
  },
  {
   "cell_type": "markdown",
   "metadata": {
    "Collapsed": "false"
   },
   "source": [
    "### Draw frame"
   ]
  },
  {
   "cell_type": "code",
   "execution_count": null,
   "metadata": {
    "Collapsed": "false"
   },
   "outputs": [],
   "source": [
    "frame_fig = figure(num=None, figsize=(6, 6), dpi=80, facecolor='w')\n",
    "time=6000\n",
    "proj.draw_frame(plot=plt, N=int(time/proj.dT), show_tips=True, set_title=True, vmax=25, obstacle=True, obstacle_color='magenta', time_shift=1000)\n",
    "\n",
    "plt.show()"
   ]
  },
  {
   "cell_type": "markdown",
   "metadata": {
    "Collapsed": "false"
   },
   "source": [
    "### Animation"
   ]
  },
  {
   "cell_type": "code",
   "execution_count": null,
   "metadata": {
    "Collapsed": "false"
   },
   "outputs": [],
   "source": [
    "%matplotlib inline\n",
    "fig = figure(num=None, figsize=(6, 6), dpi=80, facecolor='w')\n",
    "\n",
    "proj.setup_animation(K=2, first=4000, last=4800, plot=plt, show_tips=True, draw_trace=False, ani_title=True, draw_obstacle=False)\n",
    "proj.generate_animation(fig)\n",
    "\n",
    "# proj.animation.save(\"/misc/home1/u1220/lvc/analysis_jupyter/_trash/SW_formation.gif\",  writer='imagemagick', fps=15)\n",
    "# proj.save_animation(filename='sl14norm_T=232.mp4', overwrite=False, fps=10, folder='/misc/home1/u1220/lvc/analysis_jupyter/_trash/')\n",
    "\n",
    "%matplotlib widget\n",
    "HTML(proj.animation.to_jshtml())"
   ]
  },
  {
   "cell_type": "markdown",
   "metadata": {
    "Collapsed": "true"
   },
   "source": [
    "### Potential"
   ]
  },
  {
   "cell_type": "code",
   "execution_count": null,
   "metadata": {
    "Collapsed": "false"
   },
   "outputs": [],
   "source": [
    "x, y = (1,30)\n",
    "\n",
    "x_ind = int(x/(proj.mult_x*proj.drx))\n",
    "y_ind = int(y/(proj.mult_y*proj.dry))\n",
    "\n",
    "proj.load_udat()\n",
    "time_axis = np.arange(0, proj.frames_number) * proj.dT\n",
    "        \n",
    "potential_fig = figure(num=None, figsize=(14, 4), dpi=80, facecolor='w')\n",
    "plt.plot(list(time_axis), list(proj.get_point_in_time(x_ind,y_ind)), linewidth=1, color='red')\n",
    "plt.title('Potential at point (%.2f, %.2f), indices (%d, %d)' % \n",
    "          (x_ind * proj.drx * proj.mult_x, y_ind * proj.dry * proj.mult_y, x_ind, y_ind))\n",
    "plt.grid(True)\n",
    "plt.xlim(900,1200)\n",
    "\n",
    "plt.show()"
   ]
  },
  {
   "cell_type": "markdown",
   "metadata": {
    "Collapsed": "false"
   },
   "source": [
    "### Periods by AP"
   ]
  },
  {
   "cell_type": "code",
   "execution_count": null,
   "metadata": {
    "Collapsed": "false"
   },
   "outputs": [],
   "source": [
    "x, y = (10,60)\n",
    "start_t, end_t, u_level = (5000, 6000, -60)\n",
    "start_t_ind, end_t_ind = int(start_t/proj.dT), int(end_t/proj.dT)\n",
    "\n",
    "x_ind, y_ind = int(x/(proj.mult_x*proj.drx)), int(y/(proj.mult_y*proj.dry))\n",
    "times, periods = proj.calculate_periods(x=x_ind, y=y_ind, start=start_t_ind, end=end_t_ind, u_level=u_level)\n",
    "\n",
    "figure(num=None, figsize=(12, 4), dpi=80, facecolor='w')\n",
    "# plt.scatter(times, periods, s=7)\n",
    "plt.plot(times, periods)\n",
    "plt.grid()\n",
    "plt.title(\"Periods at point (%.2f, %.2f) on interval [%.2f, %.2f]. Potential level = %.2f.\" % \n",
    "          (x_ind*proj.drx*proj.mult_x, y_ind*proj.dry*proj.mult_y, start_t_ind*proj.dT, end_t, u_level))\n",
    "plt.show()\n",
    "print(np.median(periods))"
   ]
  },
  {
   "cell_type": "markdown",
   "metadata": {
    "Collapsed": "true"
   },
   "source": [
    "### APD"
   ]
  },
  {
   "cell_type": "code",
   "execution_count": null,
   "metadata": {
    "Collapsed": "false"
   },
   "outputs": [],
   "source": [
    "# get APD_X\n",
    "x, y, start_t, end_t = (90, 30, 0, 1000)\n",
    "\n",
    "x_ind = int(x/(proj.mult_x*proj.drx))\n",
    "y_ind = int(y/(proj.mult_y*proj.dry))\n",
    "start_t_ind = int(start_t/proj.dT)\n",
    "end_t_ind = int(end_t/proj.dT)\n",
    "\n",
    "times, apds = proj.calculate_APD_by_percentage(x=x_ind, y=y_ind, start=start_t_ind, end=end_t_ind, APD_percent=.9)\n",
    "\n",
    "figure(num=None, figsize=(12, 4), dpi=80, facecolor='w')\n",
    "plt.scatter(times, apds, s=7)\n",
    "plt.grid()\n",
    "# plt.title(\"APD_%d at point (%.2f, %.2f) in interval [%.2f, %.2f]. Potential level = %.2f.\" % \n",
    "#           (APD_level, x_ind*proj.drx*proj.mult_x, y_ind*proj.dry*proj.mult_y, start_t_ind*proj.dT, proj.calc_time, APD_level))\n",
    "# plt.xlim(0,8000)\n",
    "# plt.ylim(200,230)\n",
    "print(\"Avg APD90: %.2f, Median APD90: %.2f\" % (np.average(apds), np.median(apds)))\n",
    "plt.show()"
   ]
  },
  {
   "cell_type": "markdown",
   "metadata": {
    "Collapsed": "true",
    "heading_collapsed": true
   },
   "source": [
    "### Trajectory"
   ]
  },
  {
   "cell_type": "code",
   "execution_count": null,
   "metadata": {
    "Collapsed": "false",
    "hidden": true
   },
   "outputs": [],
   "source": [
    "traject_fig = figure(num=None, figsize=(6, 6), dpi=80, facecolor='w')\n",
    "proj.load_tips()\n",
    "tips = proj.tips\n",
    "\n",
    "ax = plt.gca()\n",
    "ax.set_axisbelow(True)\n",
    "\n",
    "plt.xlim(xmax = proj.nx * proj.drx, xmin = 0)\n",
    "plt.ylim(ymax = proj.ny * proj.dry, ymin = 0)\n",
    "plt.scatter(tips[:,2], tips[:,3], color='red', s=1)\n",
    "plt.grid(True)"
   ]
  },
  {
   "cell_type": "markdown",
   "metadata": {
    "Collapsed": "true",
    "heading_collapsed": true
   },
   "source": [
    "### Wavelength"
   ]
  },
  {
   "cell_type": "markdown",
   "metadata": {
    "Collapsed": "false",
    "heading_collapsed": true,
    "hidden": true
   },
   "source": [
    "#### Yline"
   ]
  },
  {
   "cell_type": "code",
   "execution_count": null,
   "metadata": {
    "Collapsed": "false",
    "hidden": true
   },
   "outputs": [],
   "source": [
    "time = 100\n",
    "line_y = 53\n",
    "\n",
    "FRAME_NUMBER = int(time/proj.dT)\n",
    "y_level = int(line_y/(proj.mult_y*proj.dry))\n",
    "print(\"Y node number %d\" % (y_level*int(proj.params['space_mult_y'])))\n",
    "rest_level = 20 # resting state if lower\n",
    "\n",
    "figure(num=None, figsize=(12, 4), dpi=80, facecolor='w')\n",
    "lny = proj.get_Yline(FRAME_NUMBER, y_level)\n",
    "plt.plot(np.arange(lny.size)*proj.drx*proj.mult_x, lny, marker='.', label='potential')\n",
    "plt.plot([0, proj.nx*proj.drx],[rest_level, rest_level], label='resting state if lower')\n",
    "plt.grid()\n",
    "plt.legend()\n",
    "plt.show()\n",
    "\n",
    "frame_fig = figure(num=None, figsize=(6, 6), dpi=80, facecolor='w')\n",
    "frame = proj.frames[FRAME_NUMBER]\n",
    "plt.imshow(frame, origin='lower', interpolation='none', extent=[0, proj.nx * proj.drx, 0, proj.ny * proj.dry], vmin=np.amin(proj.frames), vmax=25)\n",
    "plt.plot([0, proj.nx*proj.drx], [(y_level + 0.5)*proj.dry*proj.mult_y]*2, color='black')\n",
    "# 0.5 shifting is for better displaying of line -> it crosses middle of squares. \n",
    "plt.title('Spiral wave motion at %.2f ms' % (FRAME_NUMBER*proj.dT))\n",
    "plt.show()"
   ]
  },
  {
   "cell_type": "markdown",
   "metadata": {
    "Collapsed": "false",
    "heading_collapsed": true,
    "hidden": true
   },
   "source": [
    "#### Wavelength"
   ]
  },
  {
   "cell_type": "code",
   "execution_count": null,
   "metadata": {
    "Collapsed": "false",
    "hidden": true
   },
   "outputs": [],
   "source": [
    "#get wavelength\n",
    "\n",
    "nxs = proj.nxs\n",
    "nys = proj.nys\n",
    "nx = proj.nx\n",
    "drx = proj.drx\n",
    "mult_x = proj.mult_x\n",
    "\n",
    "def get_wavelength(FRAME, y):\n",
    "    lny = get_Yline(FRAME, y)\n",
    "    maxs = []\n",
    "    asc = False\n",
    "    \n",
    "    for i in range(1, len(lny) - 1):\n",
    "        if lny[i] - lny[i - 1] > 1e-10:\n",
    "            asc = True\n",
    "        elif lny[i] - lny[i + 1] > 1e-10:\n",
    "            asc = False\n",
    "            \n",
    "        if not asc and lny[i-1] > 2 and lny[i] <= 2 or asc and lny[i-1] <= 2 and lny[i] > 2:\n",
    "            if not (len(maxs) == 0 and asc):\n",
    "                maxs.append(i)\n",
    "        \n",
    "#         if lny[i] - lny[i - 1] > 0 and lny[i] - lny[i + 1] > 0:\n",
    "#             maxs.append(i)\n",
    "    print(maxs)\n",
    "    wlngth = []\n",
    "    for i in range(1, len(maxs), 2):\n",
    "        wlngth.append(maxs[i] - maxs[i-1])\n",
    "    \n",
    "    return wlngth\n",
    "\n",
    "print(np.array(get_wavelength(FRAME_NUMBER, y_level)))"
   ]
  }
 ],
 "metadata": {
  "kernelspec": {
   "display_name": "Python 3",
   "language": "python",
   "name": "python3"
  },
  "language_info": {
   "codemirror_mode": {
    "name": "ipython",
    "version": 3
   },
   "file_extension": ".py",
   "mimetype": "text/x-python",
   "name": "python",
   "nbconvert_exporter": "python",
   "pygments_lexer": "ipython3",
   "version": "3.6.6"
  },
  "toc": {
   "base_numbering": 1,
   "nav_menu": {},
   "number_sections": true,
   "sideBar": false,
   "skip_h1_title": false,
   "title_cell": "Table of Contents",
   "title_sidebar": "Contents",
   "toc_cell": false,
   "toc_position": {
    "height": "193.542px",
    "left": "1230px",
    "top": "53.7778px",
    "width": "165px"
   },
   "toc_section_display": true,
   "toc_window_display": true
  }
 },
 "nbformat": 4,
 "nbformat_minor": 4
}
